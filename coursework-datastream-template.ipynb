{
 "nbformat": 4,
 "nbformat_minor": 0,
 "metadata": {
  "kernel_info": {
   "name": "python3"
  },
  "kernelspec": {
   "display_name": "Python 3",
   "language": "python",
   "name": "python3"
  },
  "language_info": {
   "codemirror_mode": {
    "name": "ipython",
    "version": 3
   },
   "file_extension": ".py",
   "mimetype": "text/x-python",
   "name": "python",
   "nbconvert_exporter": "python",
   "pygments_lexer": "ipython3",
   "version": "3.7.6"
  },
  "colab": {
   "name": "Copy of coursework-datastream-template.ipynb",
   "provenance": [
    {
     "file_id": "https://github.com/jpauwels/city_dsp_ap-labsheets/blob/master/coursework-datastream-template.ipynb",
     "timestamp": 1612803552941
    }
   ]
  }
 },
 "cells": [
  {
   "cell_type": "markdown",
   "metadata": {
    "id": "HOrq9ueslQw6"
   },
   "source": [
    "## Setup dependencies"
   ]
  },
  {
   "cell_type": "code",
   "metadata": {
    "id": "HHUlL3ealQw-"
   },
   "source": [
    "import sys\n",
    "import datetime as dt;\n",
    "\n",
    "# display python version and date/time\n",
    "print(dt.datetime.today());\n",
    "print(sys.version)\n",
    "\n",
    "# google colab specific code\n",
    "if 'google.colab' in sys.modules:\n",
    "    try:\n",
    "        import google.colab\n",
    "        import subprocess\n",
    "        import os.path\n",
    "        p = subprocess.run(['git', 'rev-parse', '--is-inside-work-tree'], stdout=subprocess.PIPE, universal_newlines=True)\n",
    "        if p.stdout == 'true\\n':\n",
    "            !git pull\n",
    "        else:\n",
    "            if not os.path.isdir('city_dsp_ap'):\n",
    "                !git clone --depth 1 -q https://github.com/jpauwels/city_dsp_ap.git\n",
    "            %cd city_dsp_ap\n",
    "    except:\n",
    "        %cd city_dsp_ap\n",
    "else:\n",
    "    print(\"Skipped google colab specific code\");"
   ],
   "execution_count": null,
   "outputs": []
  },
  {
   "cell_type": "code",
   "metadata": {
    "id": "m7pFsVodlQw_"
   },
   "source": [
    "import numpy as np\n",
    "from scipy import fft, signal\n",
    "from scipy.io import wavfile\n",
    "import matplotlib.pyplot as plt\n",
    "from skimage.transform import rotate\n",
    "from skimage.util import random_noise\n",
    "from IPython.display import Audio, display"
   ],
   "execution_count": 2,
   "outputs": []
  },
  {
   "cell_type": "markdown",
   "metadata": {
    "id": "EIUVM-43lQw_"
   },
   "source": [
    "## Controllable delay line (UG) or filter (PG)\n",
    "\n",
    "You will need to create a function that applies the desired effect to any input signal, where the effect can be dynamically modified by a control signal. The functions only need to be implemented for offline use, so you don't need to be handle input buffers of arbitrary sizes like in lab 6. It suffices to use a single for loop to run over all samples of the input and control signals, and create the output sample-by-sample.\n",
    "\n",
    "In both cases, the control signal will be a sine of 2Hz. Create one of the required length yourself. Any signal should work as input signal. You can learn how to [upload your own files](https://colab.research.google.com/notebooks/io.ipynb) into Google Colab, but the easiest will be to use one of the wave files available in the `audio` directory. If you're loading a stereo file, it is allowed to mix it down into a single mono channel before passing it to the effect to simplify processing."
   ]
  },
  {
   "cell_type": "code",
   "metadata": {
    "id": "GBTTraoFlQw_"
   },
   "source": [
    "\n",
    "%ls audio"
   ],
   "execution_count": 6,
   "outputs": [
    {
     "name": "stdout",
     "output_type": "stream",
     "text": [
      " Volume in drive C is OS\n",
      " Volume Serial Number is F287-2376\n",
      "\n",
      " Directory of C:\\Users\\jacqu\\city\\DS2020\\Modules\\DigitalSignalProcessing\\Coursework\\CourseworkWip\\audio\n",
      "\n",
      "13/02/2021  11:04    <DIR>          .\n",
      "13/02/2021  11:04    <DIR>          ..\n",
      "13/02/2021  10:45            51,328 20-16000HzExp5sec.mp3\n",
      "13/02/2021  10:45            51,328 20-16000HzLin5sec.mp3\n",
      "13/02/2021  10:45            34,660 carrier.wav\n",
      "13/02/2021  10:45         4,365,330 rockA.wav\n",
      "13/02/2021  10:45         4,365,396 rockB.wav\n",
      "               5 File(s)      8,868,042 bytes\n",
      "               2 Dir(s)  132,963,311,616 bytes free\n"
     ]
    }
   ]
  },
  {
   "cell_type": "markdown",
   "metadata": {
    "id": "NHwGeypVlQxA"
   },
   "source": [
    "#### UG\n",
    "Program a controllable delay line. Mix the output with the original input to create a flanging effect. Use the control signal to vary the amount of delay between zero and a maximum value (1 millisecond would be a good default for this, use the samplerate to calculate how much samples this is).\n",
    "\n",
    "#### PG\n",
    "Program a controllable FIR filter, i.e. a filter that changes its characteristics over time in response to a control signal. Apply the filter to the signal by implementing a convolution with the filter coefficients in a loop over the samples, just like in lab 7. In order to make the filter respond to the control signal, you can either design two static filters and interpolate between them (like in lab 7), or you can directly manipulate the filter characteristics in the filter design function [`firls`](https://docs.scipy.org/doc/scipy/reference/generated/scipy.signal.firls.html) and call it for every iteration."
   ]
  },
  {
   "cell_type": "code",
   "metadata": {
    "id": "QB14JlWGlQxA"
   },
   "source": [
    "# write your code here"
   ],
   "execution_count": null,
   "outputs": []
  },
  {
   "cell_type": "markdown",
   "metadata": {
    "id": "y9aLZeiclQxA"
   },
   "source": [
    "## Digit recognition (UG & PG)\n",
    "\n",
    "In this part, you're going to use images of handwritten digits ranging from 0 to 9. They are split in a training set and a test set and stored as text files in `data/digits-training.txt` and `data/digits-test.txt`."
   ]
  },
  {
   "cell_type": "code",
   "metadata": {
    "id": "AFpZhjYnlQxA"
   },
   "source": [
    "%ls data/digits-*.txt"
   ],
   "execution_count": null,
   "outputs": []
  },
  {
   "cell_type": "code",
   "metadata": {
    "id": "aBt84JAMlQxB"
   },
   "source": [
    "from itertools import islice\n",
    "import re\n",
    "\n",
    "def read_digit_pixels_and_labels(path):\n",
    "    with open(path) as f:\n",
    "        header = list(islice(f, 21))\n",
    "        pixel_height = [int(x[1]) for x in map(lambda r: re.match('entheight = (\\d+)', r), header) if x][0]\n",
    "        num_digits = [int(x[1]) for x in map(lambda r: re.match('ntot = (\\d+)', r), header) if x][0]\n",
    "        digit_pixels = []\n",
    "        labels = []\n",
    "        for _ in range(num_digits):\n",
    "            chunk = list(islice(f, pixel_height+1))\n",
    "            digit_pixels.append(np.loadtxt(chunk[:-1]))\n",
    "            labels.append(int(chunk[-1]))\n",
    "    return digit_pixels, labels"
   ],
   "execution_count": null,
   "outputs": []
  },
  {
   "cell_type": "markdown",
   "metadata": {
    "id": "qAE4m5HolQxB"
   },
   "source": [
    "Since the text files have a custom format, a loader function `read_digit_pixels_and_labels` is provided."
   ]
  },
  {
   "cell_type": "code",
   "metadata": {
    "id": "9evmogW9lQxB"
   },
   "source": [
    "training_digits, training_labels = read_digit_pixels_and_labels('data/digits-training.txt')\n",
    "test_digits, test_labels = read_digit_pixels_and_labels('data/digits-test.txt')"
   ],
   "execution_count": null,
   "outputs": []
  },
  {
   "cell_type": "code",
   "metadata": {
    "id": "lkeBSJNGlQxB"
   },
   "source": [
    "len(training_digits), len(training_labels), len(test_digits), len(test_labels)"
   ],
   "execution_count": null,
   "outputs": []
  },
  {
   "cell_type": "markdown",
   "metadata": {
    "id": "J1l71GcllQxB"
   },
   "source": [
    "All digits and their associated labels have now been read into lists, so we can use list indexing to access them and, for instance, display them as below."
   ]
  },
  {
   "cell_type": "code",
   "metadata": {
    "id": "j3PpxUr5lQxC"
   },
   "source": [
    "index = 1\n",
    "plt.figure()\n",
    "plt.imshow(training_digits[index])\n",
    "plt.show()\n",
    "print('Image of digit {}'.format(training_labels[index]))"
   ],
   "execution_count": null,
   "outputs": []
  },
  {
   "cell_type": "markdown",
   "metadata": {
    "id": "PvrRIt2AlQxC"
   },
   "source": [
    "Using this data, your task is to:\n",
    "\n",
    "1. Create a function for comparing each test image with the collection of training images, using the correlation with each training image without offset (i.e. calculate the sum of the element-wise multiplied images).\n",
    "2. Estimate the most likely label for each test image by matching with the training image that has maximal correlation.\n",
    "3. Estimate the accuracy of your system, as a fraction of the correctly estimated test labels over the total number of test images.\n",
    "4. Use the two-dimensional correlation function [`signal.correlate2d`](https://docs.scipy.org/doc/scipy/reference/generated/scipy.signal.correlate2d.html) to find the best match over all image offsets. For efficiency you can use a subset of the training images, or calculate an average of the training images.\n",
    "5. Implement variants of the digit recognition system, e.g.\n",
    "    - use the negatives of the training and test images instead of the positive images\n",
    "    - use images that are slightly rotated in your training set (using [`rotate`](https://scikit-image.org/docs/dev/api/skimage.transform.html#skimage.transform.rotate) from the `scikit-image.transform` library)\n",
    "    - use images with some noise added in your training set (using [`random_noise`](https://scikit-image.org/docs/dev/api/skimage.util.html#random-noise) from the `scikit-image.util` library)\n",
    "6. Report the accuracy of the new system and compare with the accuracy of the previous systems.\n",
    "7. In the written report, discuss and reason about the different performances of your classifiers."
   ]
  },
  {
   "cell_type": "code",
   "metadata": {
    "id": "VtGdx4SJlQxC"
   },
   "source": [
    "# write your code here"
   ],
   "execution_count": null,
   "outputs": []
  },
  {
   "cell_type": "markdown",
   "metadata": {
    "id": "v75dX4e5lQxD"
   },
   "source": [
    "## Time series prediction with financial data (UG pairs & PG)\n",
    "\n",
    "In this part, you're going to use long term US stock market data (monthly indices, dividends, earnings, etc. since 1871). Information about the data provenance and references can be found at http://www.econ.yale.edu/~shiller/data.htm (especially the 2nd paragraph). The data is available in the file `data/financial_data.csv`.\n",
    "\n",
    "It is stored as comma-separated numerical values, with a header containing column names. Therefore we can use [`np.genfromtxt`](https://docs.scipy.org/doc/numpy/reference/generated/numpy.genfromtxt.html#numpy.genfromtxt) to read it."
   ]
  },
  {
   "cell_type": "code",
   "metadata": {
    "id": "rIpwVQRclQxD"
   },
   "source": [
    "financial = np.genfromtxt('data/financial_data.csv', delimiter=',', skip_header=2, names=True)"
   ],
   "execution_count": null,
   "outputs": []
  },
  {
   "cell_type": "markdown",
   "metadata": {
    "id": "I-QZMODllQxD"
   },
   "source": [
    "The result is a structured array, which means that we can access each of the columns in the table by its name. The list of all colums can be found below."
   ]
  },
  {
   "cell_type": "code",
   "metadata": {
    "id": "ymhO_Vg7lQxD"
   },
   "source": [
    "financial.dtype.names"
   ],
   "execution_count": null,
   "outputs": []
  },
  {
   "cell_type": "markdown",
   "metadata": {
    "id": "-MC_PxxulQxD"
   },
   "source": [
    "You can access the columns using their names between square brackets, like you would for a dictionary. It's advised to store the columns you need in helper variables, to avoid long statements resulting from the long column names."
   ]
  },
  {
   "cell_type": "code",
   "metadata": {
    "id": "g2_pmfUTlQxE"
   },
   "source": [
    "date = financial['Date']\n",
    "real_price = financial['Real_Price']"
   ],
   "execution_count": null,
   "outputs": []
  },
  {
   "cell_type": "markdown",
   "metadata": {
    "id": "xhhXs6cflQxE"
   },
   "source": [
    "Now you can easily use the data, for instance to plot it."
   ]
  },
  {
   "cell_type": "code",
   "metadata": {
    "id": "runwk9hllQxE"
   },
   "source": [
    "plt.figure()\n",
    "plt.plot(date, real_price)\n",
    "plt.title('Evolution of Real Price over time')\n",
    "plt.show()"
   ],
   "execution_count": null,
   "outputs": []
  },
  {
   "cell_type": "markdown",
   "metadata": {
    "id": "DSLkEgovlQxE"
   },
   "source": [
    "Using this data, your task is to:\n",
    "\n",
    "1. Look for long term trends on a linear and log scale and de-trend the data first.\n",
    "2. Calculate the FFT of the signal of interest, to estimate possible periodicities. You can use a window to avoid spectral leaking.\n",
    "3. Refine your analysis by adjusting the size of the dataset (e.g. if you model annual patterns, make sure your dataset size is a multiple of 12)."
   ]
  },
  {
   "cell_type": "code",
   "metadata": {
    "id": "MRwP52iElQxE"
   },
   "source": [
    "# write your code here"
   ],
   "execution_count": null,
   "outputs": []
  },
  {
   "cell_type": "code",
   "metadata": {
    "id": "KecSNYDilQxE"
   },
   "source": [
    ""
   ],
   "execution_count": null,
   "outputs": []
  }
 ]
}